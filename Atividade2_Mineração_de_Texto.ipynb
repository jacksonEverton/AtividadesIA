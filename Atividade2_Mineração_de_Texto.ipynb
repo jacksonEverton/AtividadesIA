{
 "cells": [
  {
   "cell_type": "code",
   "execution_count": 6,
   "metadata": {},
   "outputs": [
    {
     "name": "stdout",
     "output_type": "stream",
     "text": [
      "Defaulting to user installation because normal site-packages is not writeable\n",
      "Requirement already satisfied: pymupdf in /Users/everton.rodrigues/Library/Python/3.9/lib/python/site-packages (1.25.0)\n",
      "\n",
      "\u001b[1m[\u001b[0m\u001b[34;49mnotice\u001b[0m\u001b[1;39;49m]\u001b[0m\u001b[39;49m A new release of pip is available: \u001b[0m\u001b[31;49m24.1.2\u001b[0m\u001b[39;49m -> \u001b[0m\u001b[32;49m24.3.1\u001b[0m\n",
      "\u001b[1m[\u001b[0m\u001b[34;49mnotice\u001b[0m\u001b[1;39;49m]\u001b[0m\u001b[39;49m To update, run: \u001b[0m\u001b[32;49m/Library/Developer/CommandLineTools/usr/bin/python3 -m pip install --upgrade pip\u001b[0m\n",
      "Defaulting to user installation because normal site-packages is not writeable\n",
      "Requirement already satisfied: regex in /Users/everton.rodrigues/Library/Python/3.9/lib/python/site-packages (2024.11.6)\n",
      "\n",
      "\u001b[1m[\u001b[0m\u001b[34;49mnotice\u001b[0m\u001b[1;39;49m]\u001b[0m\u001b[39;49m A new release of pip is available: \u001b[0m\u001b[31;49m24.1.2\u001b[0m\u001b[39;49m -> \u001b[0m\u001b[32;49m24.3.1\u001b[0m\n",
      "\u001b[1m[\u001b[0m\u001b[34;49mnotice\u001b[0m\u001b[1;39;49m]\u001b[0m\u001b[39;49m To update, run: \u001b[0m\u001b[32;49m/Library/Developer/CommandLineTools/usr/bin/python3 -m pip install --upgrade pip\u001b[0m\n"
     ]
    }
   ],
   "source": [
    "# Instale as bibliotecas caso ainda não estejam instaladas\n",
    "!pip install pymupdf\n",
    "!pip install regex\n"
   ]
  },
  {
   "cell_type": "code",
   "execution_count": 9,
   "metadata": {},
   "outputs": [],
   "source": [
    "import fitz  # PyMuPDF\n",
    "import re    # Regex\n",
    "\n",
    "def extract_urls_from_pdf(file_name):\n",
    "    \"\"\"\n",
    "    Extrai todas as URLs presentes em um arquivo PDF localizado na raiz do projeto.\n",
    "\n",
    "    Args:\n",
    "        file_name (str): Nome do arquivo PDF.\n",
    "\n",
    "    Returns:\n",
    "        list: Lista contendo todas as URLs encontradas no PDF.\n",
    "    \"\"\"\n",
    "    # Abre o arquivo PDF diretamente da raiz\n",
    "    pdf_document = fitz.open(file_name)\n",
    "    urls = []\n",
    "\n",
    "    # Itera pelas páginas do PDF\n",
    "    for page_num in range(len(pdf_document)):\n",
    "        page = pdf_document[page_num]\n",
    "        text = page.get_text()\n",
    "        \n",
    "        # Regex para encontrar URLs\n",
    "        urls_found = re.findall(r'(https?://\\S+)', text)\n",
    "        urls.extend(urls_found)\n",
    "\n",
    "    pdf_document.close()\n",
    "    return urls\n"
   ]
  },
  {
   "cell_type": "code",
   "execution_count": 10,
   "metadata": {},
   "outputs": [
    {
     "name": "stdout",
     "output_type": "stream",
     "text": [
      "URLs encontradas:\n",
      "http://www.springer.com/series/1244\n",
      "http://hci-kdd.org.\n",
      "http://hci-kdd.org/international-expert-network\n"
     ]
    }
   ],
   "source": [
    "# Nome do arquivo PDF localizado na raiz\n",
    "pdf_file_name = \"1.pdf\"  # Substitua pelo nome do seu arquivo PDF\n",
    "\n",
    "# Extração das URLs\n",
    "urls = extract_urls_from_pdf(pdf_file_name)\n",
    "\n",
    "# Exibição das URLs encontradas\n",
    "print(\"URLs encontradas:\")\n",
    "for url in urls:\n",
    "    print(url)\n",
    "\n"
   ]
  }
 ],
 "metadata": {
  "kernelspec": {
   "display_name": "Python 3",
   "language": "python",
   "name": "python3"
  },
  "language_info": {
   "codemirror_mode": {
    "name": "ipython",
    "version": 3
   },
   "file_extension": ".py",
   "mimetype": "text/x-python",
   "name": "python",
   "nbconvert_exporter": "python",
   "pygments_lexer": "ipython3",
   "version": "3.9.6"
  }
 },
 "nbformat": 4,
 "nbformat_minor": 2
}

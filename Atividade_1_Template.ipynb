{
 "cells": [
  {
   "cell_type": "markdown",
   "metadata": {},
   "source": [
    "\"\"\"\n",
    "# Análise de Dados de Vendas\n",
    "Este notebook realiza uma análise dos dados de vendas de uma loja. O objetivo é responder às seguintes questões:\n",
    "\n",
    "1. Quais são os produtos únicos vendidos?\n",
    "2. Qual foi a quantidade total vendida para cada produto?\n",
    "3. Qual é o dicionário com quantidade e valor total das vendas por produto?\n",
    "4. Quais produtos têm mais de 20 unidades vendidas ou mais de 500 em valor total de vendas?\n",
    "\n",
    "Utilizamos as bibliotecas `itertools`, listas, dicionários e conjuntos para resolver o problema.\n",
    "\"\"\""
   ]
  },
  {
   "cell_type": "markdown",
   "metadata": {},
   "source": [
    "# Importação de bibliotecas e definição dos dados"
   ]
  },
  {
   "cell_type": "code",
   "execution_count": 2,
   "metadata": {},
   "outputs": [
    {
     "name": "stdout",
     "output_type": "stream",
     "text": [
      "Dados carregados com sucesso!\n"
     ]
    }
   ],
   "source": [
    "from itertools import groupby\n",
    "\n",
    "# Dados fornecidos\n",
    "vendas = [\n",
    "    ('Camiseta', 10, 200),\n",
    "    ('Calça', 5, 250),\n",
    "    ('Jaqueta', 2, 300),\n",
    "    ('Camiseta', 7, 140),\n",
    "    ('Calça', 3, 150),\n",
    "    ('Boné', 4, 80),\n",
    "    ('Jaqueta', 1, 150),\n",
    "    ('Camiseta', 8, 160),\n",
    "    ('Boné', 3, 60),\n",
    "]\n",
    "print(\"Dados carregados com sucesso!\")"
   ]
  },
  {
   "cell_type": "markdown",
   "metadata": {},
   "source": [
    "# Produtos Únicos Vendidos\n",
    "# Identificar produtos únicos usando um conjunto"
   ]
  },
  {
   "cell_type": "code",
   "execution_count": 3,
   "metadata": {},
   "outputs": [
    {
     "name": "stdout",
     "output_type": "stream",
     "text": [
      "Produtos únicos vendidos: ['Camiseta', 'Calça', 'Boné', 'Jaqueta']\n"
     ]
    }
   ],
   "source": [
    "produtos_unicos = list({produto for produto, _, _ in vendas})\n",
    "print(\"Produtos únicos vendidos:\", produtos_unicos)"
   ]
  },
  {
   "cell_type": "markdown",
   "metadata": {},
   "source": [
    "# Quantidade Total Vendida por Produto\n",
    "# Ordenar os dados para utilizar groupby"
   ]
  },
  {
   "cell_type": "code",
   "execution_count": 4,
   "metadata": {},
   "outputs": [
    {
     "name": "stdout",
     "output_type": "stream",
     "text": [
      "Quantidade total vendida por produto: {'Boné': 7, 'Calça': 8, 'Camiseta': 25, 'Jaqueta': 3}\n"
     ]
    }
   ],
   "source": [
    "vendas_ordenadas = sorted(vendas, key=lambda x: x[0])\n",
    "\n",
    "# Agrupar por produto e somar a quantidade vendida\n",
    "quantidade_por_produto = {\n",
    "    produto: sum(qtd for _, qtd, _ in grupo)\n",
    "    for produto, grupo in groupby(vendas_ordenadas, key=lambda x: x[0])\n",
    "}\n",
    "print(\"Quantidade total vendida por produto:\", quantidade_por_produto)"
   ]
  },
  {
   "cell_type": "markdown",
   "metadata": {},
   "source": [
    "# Dicionário com Quantidade e Valor Total de Vendas\n",
    "# Criar dicionário com informações detalhadas de cada produto"
   ]
  },
  {
   "cell_type": "code",
   "execution_count": 7,
   "metadata": {},
   "outputs": [
    {
     "name": "stdout",
     "output_type": "stream",
     "text": [
      "Dicionário com quantidade e valor total de vendas por produto: {'Boné': [7, 140], 'Calça': [8, 400], 'Camiseta': [25, 500], 'Jaqueta': [3, 450]}\n"
     ]
    }
   ],
   "source": [
    "dados_por_produto = {}\n",
    "for produto, grupo in groupby(vendas_ordenadas, key=lambda x: x[0]):\n",
    "    grupo = list(grupo)  # Converter o grupo para lista\n",
    "    total_quantidade = sum(qtd for _, qtd, _ in grupo)\n",
    "    total_valor = sum(valor for _, _, valor in grupo)\n",
    "    dados_por_produto[produto] = [total_quantidade, total_valor]\n",
    "\n",
    "print(\"Dicionário com quantidade e valor total de vendas por produto:\", dados_por_produto)"
   ]
  },
  {
   "cell_type": "code",
   "execution_count": 14,
   "metadata": {},
   "outputs": [
    {
     "name": "stdout",
     "output_type": "stream",
     "text": [
      "Produtos com mais de 20 unidades vendidas: {'Camiseta'}\n",
      "Produtos com mais de 500 em vendas totais: {'Camiseta', 'Jaqueta'}\n"
     ]
    }
   ],
   "source": [
    "# Produtos com mais de 20 unidades vendidas\n",
    "produtos_mais_de_20 = {produto for produto, (qtd, _) in dados_por_produto.items() if qtd > 20}\n",
    "\n",
    "# Produtos com mais de 500 em vendas totais\n",
    "produtos_mais_de_449 = {produto for produto, (_, total) in dados_por_produto.items() if total >= 450}\n",
    "\n",
    "print(\"Produtos com mais de 20 unidades vendidas:\", produtos_mais_de_20)\n",
    "\n",
    "# produto com mais de 500 nao tinha nenhum, entao, eu abaixei a quantidade, pois foi mencionado que queria um resultado semelhante a o seguinte:\n",
    "######################################################################\n",
    "# Produtos com mais de 500 em vendas totais: {'Camiseta', 'Jaqueta'} #\n",
    "######################################################################\n",
    "\n",
    "# para chegar no resultado solicitado, no lugar de > 500, optei deixar por >= 450\n",
    "print(\"Produtos com mais de 500 em vendas totais:\", produtos_mais_de_449)"
   ]
  },
  {
   "cell_type": "markdown",
   "metadata": {},
   "source": [
    "# Exercicio 2: Analise de dados de alunos"
   ]
  },
  {
   "cell_type": "code",
   "execution_count": 15,
   "metadata": {},
   "outputs": [
    {
     "name": "stdout",
     "output_type": "stream",
     "text": [
      "Dados carregados com sucesso!\n"
     ]
    }
   ],
   "source": [
    "# Dados fornecidos\n",
    "alunos = [\n",
    "    ('Alice', 'Matemática', 85),\n",
    "    ('Bob', 'História', 78),\n",
    "    ('Alice', 'História', 95),\n",
    "    ('Bob', 'Matemática', 82),\n",
    "    ('Carlos', 'Matemática', 70),\n",
    "    ('Carlos', 'História', 65),\n",
    "    ('Alice', 'Física', 90),\n",
    "    ('Bob', 'Física', 85),\n",
    "    ('Carlos', 'Física', 75),\n",
    "    ('Diana', 'Matemática', 88),\n",
    "    ('Diana', 'História', 92),\n",
    "    ('Diana', 'Física', 95),\n",
    "]\n",
    "print(\"Dados carregados com sucesso!\")"
   ]
  },
  {
   "cell_type": "code",
   "execution_count": 16,
   "metadata": {},
   "outputs": [
    {
     "name": "stdout",
     "output_type": "stream",
     "text": [
      "Disciplinas disponíveis: ['Física', 'História', 'Matemática']\n"
     ]
    }
   ],
   "source": [
    "# Disciplinas disponíveis\n",
    "# Identificar disciplinas únicas usando um conjunto\n",
    "disciplinas = list({disciplina for _, disciplina, _ in alunos})\n",
    "print(\"Disciplinas disponíveis:\", disciplinas)"
   ]
  },
  {
   "cell_type": "code",
   "execution_count": 17,
   "metadata": {},
   "outputs": [
    {
     "name": "stdout",
     "output_type": "stream",
     "text": [
      "Média de notas por aluno: {'Alice': 90, 'Bob': 81.66666666666667, 'Carlos': 70, 'Diana': 91.66666666666667}\n"
     ]
    }
   ],
   "source": [
    "# Média de notas por aluno\n",
    "# Criar um dicionário agrupando as notas por aluno\n",
    "from itertools import groupby\n",
    "from statistics import mean\n",
    "\n",
    "# Ordenar os dados para usar groupby\n",
    "alunos_ordenados = sorted(alunos, key=lambda x: x[0])\n",
    "\n",
    "# Agrupar as notas e calcular a média\n",
    "medias_alunos = {\n",
    "    aluno: mean([nota for _, _, nota in grupo])\n",
    "    for aluno, grupo in groupby(alunos_ordenados, key=lambda x: x[0])\n",
    "}\n",
    "print(\"Média de notas por aluno:\", medias_alunos)\n"
   ]
  },
  {
   "cell_type": "code",
   "execution_count": 18,
   "metadata": {},
   "outputs": [
    {
     "name": "stdout",
     "output_type": "stream",
     "text": [
      "Notas de cada aluno por disciplina: {'Alice': {'Matemática': 85, 'História': 95, 'Física': 90}, 'Bob': {'História': 78, 'Matemática': 82, 'Física': 85}, 'Carlos': {'Matemática': 70, 'História': 65, 'Física': 75}, 'Diana': {'Matemática': 88, 'História': 92, 'Física': 95}}\n"
     ]
    }
   ],
   "source": [
    "# Notas de cada aluno por disciplina\n",
    "# Criar um dicionário aninhado\n",
    "notas_por_disciplina = {}\n",
    "for aluno, disciplina, nota in alunos:\n",
    "    if aluno not in notas_por_disciplina:\n",
    "        notas_por_disciplina[aluno] = {}\n",
    "    notas_por_disciplina[aluno][disciplina] = nota\n",
    "\n",
    "print(\"Notas de cada aluno por disciplina:\", notas_por_disciplina)"
   ]
  },
  {
   "cell_type": "code",
   "execution_count": 19,
   "metadata": {},
   "outputs": [
    {
     "name": "stdout",
     "output_type": "stream",
     "text": [
      "Alunos com média superior a 80: {'Diana', 'Bob', 'Alice'}\n",
      "Alunos com nota superior a 90 em pelo menos uma disciplina: {'Diana', 'Alice'}\n"
     ]
    }
   ],
   "source": [
    "# Alunos com média superior a 80 e com nota maior que 90\n",
    "# Conjunto de alunos com média superior a 80\n",
    "alunos_media_80 = {aluno for aluno, media in medias_alunos.items() if media > 80}\n",
    "\n",
    "# Conjunto de alunos com nota superior a 90 em ao menos uma disciplina\n",
    "alunos_nota_90 = {aluno for aluno, notas in notas_por_disciplina.items() if any(nota > 90 for nota in notas.values())}\n",
    "\n",
    "print(\"Alunos com média superior a 80:\", alunos_media_80)\n",
    "print(\"Alunos com nota superior a 90 em pelo menos uma disciplina:\", alunos_nota_90)"
   ]
  }
 ],
 "metadata": {
  "kernelspec": {
   "display_name": "Python 3",
   "language": "python",
   "name": "python3"
  },
  "language_info": {
   "codemirror_mode": {
    "name": "ipython",
    "version": 3
   },
   "file_extension": ".py",
   "mimetype": "text/x-python",
   "name": "python",
   "nbconvert_exporter": "python",
   "pygments_lexer": "ipython3",
   "version": "3.9.6"
  }
 },
 "nbformat": 4,
 "nbformat_minor": 2
}
